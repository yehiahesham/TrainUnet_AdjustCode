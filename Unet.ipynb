{
 "cells": [
  {
   "cell_type": "code",
   "execution_count": 1,
   "metadata": {},
   "outputs": [
    {
     "name": "stderr",
     "output_type": "stream",
     "text": [
      "/home2/yehia.ahmed/SafeML_2/lib/python3.8/site-packages/tqdm/auto.py:22: TqdmWarning: IProgress not found. Please update jupyter and ipywidgets. See https://ipywidgets.readthedocs.io/en/stable/user_install.html\n",
      "  from .autonotebook import tqdm as notebook_tqdm\n"
     ]
    }
   ],
   "source": [
    "import numpy as np\n",
    "import torch\n",
    "import torch.nn as nn\n",
    "import torch.nn.functional as F\n",
    "import torch.optim as optim\n",
    "import matplotlib.pyplot as plt\n",
    "from torch.utils.data import TensorDataset, DataLoader , random_split\n",
    "from scipy.stats import pearsonr\n",
    "from scipy.stats import entropy"
   ]
  },
  {
   "cell_type": "markdown",
   "metadata": {},
   "source": [
    "## Unet Model Definition"
   ]
  },
  {
   "cell_type": "code",
   "execution_count": 2,
   "metadata": {},
   "outputs": [],
   "source": [
    "class UNet(nn.Module):\n",
    "    def __init__(self):\n",
    "        super(UNet, self).__init__()\n",
    "        # Contracting Path\n",
    "        self.encoder1 = self.compress_block(in_channels=1, out_channels=64, kernel_size=3)\n",
    "        self.encoder2 = self.compress_block(64, 128, 3)\n",
    "        # Expanding Path\n",
    "        self.decoder1 = self.expand_block(128, 64, 3)\n",
    "        self.out = nn.Conv2d(64, 1, kernel_size=1)\n",
    "    \n",
    "    def __call__(self, x):\n",
    "        # 1st encode image to an embedding\n",
    "        x = self.encoder1(x)\n",
    "        x = self.encoder2(x)\n",
    "        \n",
    "        # 2nd decode emb back to image\n",
    "        x = self.decoder1(x) \n",
    "        x = self.out(x)\n",
    "        return x\n",
    "    \n",
    "    def compress_block(self, in_channels, out_channels, kernel_size):\n",
    "        #embedding path\n",
    "        block = nn.Sequential(\n",
    "            nn.Conv2d(in_channels, out_channels, kernel_size, padding=1),\n",
    "            nn.ReLU(),\n",
    "            nn.MaxPool2d(kernel_size=2, stride=2)\n",
    "        )\n",
    "        return block\n",
    "    \n",
    "    def expand_block(self, in_channels, out_channels, kernel_size):\n",
    "        #expanding  path\n",
    "        block = nn.Sequential(\n",
    "            nn.Conv2d(in_channels, out_channels, kernel_size, padding=1),\n",
    "            nn.ReLU(),\n",
    "            nn.ConvTranspose2d(out_channels, out_channels // 2, kernel_size=3, stride=2, padding=1, output_padding=1)\n",
    "        )\n",
    "        return block\n"
   ]
  },
  {
   "cell_type": "code",
   "execution_count": 3,
   "metadata": {},
   "outputs": [
    {
     "name": "stdout",
     "output_type": "stream",
     "text": [
      "UNet(\n",
      "  (inc): DoubleConv(\n",
      "    (double_conv): Sequential(\n",
      "      (0): Conv2d(1, 64, kernel_size=(3, 3), stride=(1, 1), padding=(1, 1))\n",
      "      (1): BatchNorm2d(64, eps=1e-05, momentum=0.1, affine=True, track_running_stats=True)\n",
      "      (2): ReLU(inplace=True)\n",
      "      (3): Conv2d(64, 64, kernel_size=(3, 3), stride=(1, 1), padding=(1, 1))\n",
      "      (4): BatchNorm2d(64, eps=1e-05, momentum=0.1, affine=True, track_running_stats=True)\n",
      "      (5): ReLU(inplace=True)\n",
      "    )\n",
      "  )\n",
      "  (down1): Down(\n",
      "    (maxpool_conv): Sequential(\n",
      "      (0): MaxPool2d(kernel_size=2, stride=2, padding=0, dilation=1, ceil_mode=False)\n",
      "      (1): DoubleConv(\n",
      "        (double_conv): Sequential(\n",
      "          (0): Conv2d(64, 128, kernel_size=(3, 3), stride=(1, 1), padding=(1, 1))\n",
      "          (1): BatchNorm2d(128, eps=1e-05, momentum=0.1, affine=True, track_running_stats=True)\n",
      "          (2): ReLU(inplace=True)\n",
      "          (3): Conv2d(128, 128, kernel_size=(3, 3), stride=(1, 1), padding=(1, 1))\n",
      "          (4): BatchNorm2d(128, eps=1e-05, momentum=0.1, affine=True, track_running_stats=True)\n",
      "          (5): ReLU(inplace=True)\n",
      "        )\n",
      "      )\n",
      "    )\n",
      "  )\n",
      "  (down2): Down(\n",
      "    (maxpool_conv): Sequential(\n",
      "      (0): MaxPool2d(kernel_size=2, stride=2, padding=0, dilation=1, ceil_mode=False)\n",
      "      (1): DoubleConv(\n",
      "        (double_conv): Sequential(\n",
      "          (0): Conv2d(128, 256, kernel_size=(3, 3), stride=(1, 1), padding=(1, 1))\n",
      "          (1): BatchNorm2d(256, eps=1e-05, momentum=0.1, affine=True, track_running_stats=True)\n",
      "          (2): ReLU(inplace=True)\n",
      "          (3): Conv2d(256, 256, kernel_size=(3, 3), stride=(1, 1), padding=(1, 1))\n",
      "          (4): BatchNorm2d(256, eps=1e-05, momentum=0.1, affine=True, track_running_stats=True)\n",
      "          (5): ReLU(inplace=True)\n",
      "        )\n",
      "      )\n",
      "    )\n",
      "  )\n",
      "  (up1): Up(\n",
      "    (up): Upsample(scale_factor=2.0, mode=bilinear)\n",
      "    (conv): DoubleConv(\n",
      "      (double_conv): Sequential(\n",
      "        (0): Conv2d(256, 128, kernel_size=(3, 3), stride=(1, 1), padding=(1, 1))\n",
      "        (1): BatchNorm2d(128, eps=1e-05, momentum=0.1, affine=True, track_running_stats=True)\n",
      "        (2): ReLU(inplace=True)\n",
      "        (3): Conv2d(128, 128, kernel_size=(3, 3), stride=(1, 1), padding=(1, 1))\n",
      "        (4): BatchNorm2d(128, eps=1e-05, momentum=0.1, affine=True, track_running_stats=True)\n",
      "        (5): ReLU(inplace=True)\n",
      "      )\n",
      "    )\n",
      "  )\n",
      "  (up2): Up(\n",
      "    (up): Upsample(scale_factor=2.0, mode=bilinear)\n",
      "    (conv): DoubleConv(\n",
      "      (double_conv): Sequential(\n",
      "        (0): Conv2d(128, 64, kernel_size=(3, 3), stride=(1, 1), padding=(1, 1))\n",
      "        (1): BatchNorm2d(64, eps=1e-05, momentum=0.1, affine=True, track_running_stats=True)\n",
      "        (2): ReLU(inplace=True)\n",
      "        (3): Conv2d(64, 64, kernel_size=(3, 3), stride=(1, 1), padding=(1, 1))\n",
      "        (4): BatchNorm2d(64, eps=1e-05, momentum=0.1, affine=True, track_running_stats=True)\n",
      "        (5): ReLU(inplace=True)\n",
      "      )\n",
      "    )\n",
      "  )\n",
      "  (outc): Conv2d(64, 10, kernel_size=(1, 1), stride=(1, 1))\n",
      ")\n"
     ]
    }
   ],
   "source": [
    "class DoubleConv(nn.Module):\n",
    "    \"\"\"(convolution => [BN] => ReLU) * 2\"\"\"\n",
    "    \n",
    "    def __init__(self, in_channels, out_channels, mid_channels=None):\n",
    "        super().__init__()\n",
    "        if not mid_channels:\n",
    "            mid_channels = out_channels\n",
    "        self.double_conv = nn.Sequential(\n",
    "            nn.Conv2d(in_channels, mid_channels, kernel_size=3, padding=1),\n",
    "            nn.BatchNorm2d(mid_channels),\n",
    "            nn.ReLU(inplace=True),\n",
    "            nn.Conv2d(mid_channels, out_channels, kernel_size=3, padding=1),\n",
    "            nn.BatchNorm2d(out_channels),\n",
    "            nn.ReLU(inplace=True)\n",
    "        )\n",
    "\n",
    "    def forward(self, x):\n",
    "        return self.double_conv(x)\n",
    "\n",
    "class Down(nn.Module):\n",
    "    \"\"\"Downscaling with maxpool then double conv\"\"\"\n",
    "    \n",
    "    def __init__(self, in_channels, out_channels):\n",
    "        super().__init__()\n",
    "        self.maxpool_conv = nn.Sequential(\n",
    "            nn.MaxPool2d(2),\n",
    "            DoubleConv(in_channels, out_channels)\n",
    "        )\n",
    "\n",
    "    def forward(self, x):\n",
    "        return self.maxpool_conv(x)\n",
    "\n",
    "class Up(nn.Module):\n",
    "    \"\"\"Upscaling then double conv\"\"\"\n",
    "    \n",
    "    def __init__(self, in_channels, out_channels, bilinear=True):\n",
    "        super().__init__()\n",
    "        \n",
    "        # if bilinear, use the normal convolutions to reduce the number of channels\n",
    "        if bilinear:\n",
    "            self.up = nn.Upsample(scale_factor=2, mode='bilinear', align_corners=True)\n",
    "            self.conv = DoubleConv(in_channels, out_channels, in_channels // 2)\n",
    "        else:\n",
    "            self.up = nn.ConvTranspose2d(in_channels , in_channels // 2, kernel_size=2, stride=2)\n",
    "            self.conv = DoubleConv(in_channels, out_channels)\n",
    "            \n",
    "\n",
    "    def forward(self, x1):#, x2):\n",
    "        x1 = self.up(x1)\n",
    "        \n",
    "        # input is CHW\n",
    "        # diffY = x2.size()[2] - x1.size()[2]\n",
    "        # diffX = x2.size()[3] - x1.size()[3]\n",
    "\n",
    "        # x1 = F.pad(x1, [diffX // 2, diffX - diffX // 2,\n",
    "        #                 diffY // 2, diffY - diffY // 2])\n",
    "        \n",
    "        # x = torch.cat([x2, x1], dim=1)\n",
    "        x=x1\n",
    "        return self.conv(x)\n",
    "\n",
    "class UNet(nn.Module):\n",
    "    def __init__(self, n_channels, n_classes, bilinear=True):\n",
    "        super(UNet, self).__init__()\n",
    "        self.n_channels = n_channels\n",
    "        self.n_classes = n_classes\n",
    "        self.bilinear = bilinear\n",
    "\n",
    "        self.inc = DoubleConv(n_channels, 64)\n",
    "        self.down1 = Down(64, 128)\n",
    "        self.down2 = Down(128, 256)\n",
    "        self.up1 = Up(256, 128, bilinear)\n",
    "        self.up2 = Up(128, 64, bilinear)\n",
    "        self.outc = nn.Conv2d(64, n_classes, kernel_size=1)\n",
    "\n",
    "    def forward(self, x):\n",
    "        x1 = self.inc(x)\n",
    "        x2 = self.down1(x1)\n",
    "        x3 = self.down2(x2)\n",
    "        x = self.up1(x3)#, x2)\n",
    "        x = self.up2(x)#, x1)\n",
    "        logits = self.outc(x)\n",
    "        return logits\n",
    "\n",
    "# Example: Creating a U-Net model for 1 input channel and 10 output classes\n",
    "model = UNet(n_channels=1, n_classes=10)\n",
    "print(model)\n"
   ]
  },
  {
   "cell_type": "markdown",
   "metadata": {},
   "source": [
    "## Creating and loading dataset"
   ]
  },
  {
   "cell_type": "code",
   "execution_count": 4,
   "metadata": {},
   "outputs": [
    {
     "name": "stderr",
     "output_type": "stream",
     "text": [
      "2024-03-20 07:35:56.247443: I tensorflow/core/platform/cpu_feature_guard.cc:182] This TensorFlow binary is optimized to use available CPU instructions in performance-critical operations.\n",
      "To enable the following instructions: AVX2 FMA, in other operations, rebuild TensorFlow with the appropriate compiler flags.\n",
      "2024-03-20 07:35:57.776907: W tensorflow/compiler/tf2tensorrt/utils/py_utils.cc:38] TF-TRT Warning: Could not find TensorRT\n"
     ]
    }
   ],
   "source": [
    "from SimpleDeepLearning.simple_deep_learning.mnist_extended.semantic_segmentation import (create_semantic_segmentation_dataset, display_segmented_image,\n",
    "                                                                       display_grayscale_array, plot_class_masks)"
   ]
  },
  {
   "cell_type": "code",
   "execution_count": 5,
   "metadata": {},
   "outputs": [],
   "source": [
    "#Dataset Paramerters\n",
    "num_train_samples=2000\n",
    "num_test_samples=500\n",
    "image_shape=(60, 60)\n",
    "num_classes=10\n",
    "batch_size = 32  \n",
    "toShuffle=True"
   ]
  },
  {
   "cell_type": "code",
   "execution_count": 6,
   "metadata": {},
   "outputs": [
    {
     "name": "stdout",
     "output_type": "stream",
     "text": [
      "(2000, 60, 60, 1) (2000, 60, 60, 10)\n",
      "(500, 60, 60, 1) (500, 60, 60, 10)\n"
     ]
    }
   ],
   "source": [
    "train_x, train_y, test_x, test_y = create_semantic_segmentation_dataset(num_train_samples=num_train_samples,\n",
    "                                                                        num_test_samples=num_test_samples,\n",
    "                                                                        image_shape=image_shape,\n",
    "                                                                        num_classes=num_classes)\n",
    "print(train_x.shape, train_y.shape)\n",
    "print(test_x.shape, test_y.shape)"
   ]
  },
  {
   "cell_type": "code",
   "execution_count": 7,
   "metadata": {},
   "outputs": [],
   "source": [
    "# the permutation is needed to put the #channels in the end\n",
    "train_x_tensor = torch.tensor(train_x, dtype=torch.float32).permute(0, 3, 1, 2)\n",
    "train_y_tensor = torch.tensor(train_y, dtype=torch.float32).permute(0, 3, 1, 2)\n",
    "test_x_tensor = torch.tensor(test_x, dtype=torch.float32).permute(0, 3, 1, 2) \n",
    "test_y_tensor = torch.tensor(test_y, dtype=torch.float32).permute(0, 3, 1, 2) \n",
    "\n",
    "# Cal train and Val sizes\n",
    "dataset_size = len(train_x_tensor)\n",
    "val_size = int(dataset_size * 0.2)  # 20% for validation\n",
    "train_size = dataset_size - val_size\n",
    "\n",
    "# Split train train and Val as 80-20 splits\n",
    "train_dataset, val_dataset = random_split(TensorDataset(train_x_tensor, train_y_tensor), [train_size, val_size])\n",
    "\n",
    "\n",
    "train_loader = DataLoader(TensorDataset(train_x_tensor,train_y_tensor), batch_size=batch_size, shuffle=toShuffle)\n",
    "val_loader = DataLoader(val_dataset, batch_size=batch_size, shuffle=False)  # Typically, no need to shuffle validation data\n",
    "test_loader  = DataLoader(TensorDataset(test_x_tensor ,test_y_tensor ), batch_size=batch_size, shuffle=toShuffle)"
   ]
  },
  {
   "cell_type": "code",
   "execution_count": 8,
   "metadata": {},
   "outputs": [
    {
     "name": "stdout",
     "output_type": "stream",
     "text": [
      "63\n",
      "13\n",
      "16\n"
     ]
    }
   ],
   "source": [
    "print(len(train_loader))\n",
    "print(len(val_loader))\n",
    "print(len(test_loader))\n",
    "sample = next(iter(train_loader))\n",
    "sample_x,sample_y = sample"
   ]
  },
  {
   "cell_type": "code",
   "execution_count": 9,
   "metadata": {},
   "outputs": [
    {
     "name": "stdout",
     "output_type": "stream",
     "text": [
      "torch.Size([1, 60, 60])\n",
      "torch.Size([10, 60, 60])\n"
     ]
    },
    {
     "data": {
      "image/png": "[encoded data removed]",
      "text/plain": [
       "<Figure size 640x480 with 1 Axes>"
      ]
     },
     "metadata": {},
     "output_type": "display_data"
    },
    {
     "data": {
      "image/png": "[encoded data removed]",
      "text/plain": [
       "<Figure size 4000x400 with 10 Axes>"
      ]
     },
     "metadata": {},
     "output_type": "display_data"
    }
   ],
   "source": [
    "i = np.random.randint(len(sample_x))\n",
    "print(sample_x[i].shape)\n",
    "print(sample_y[i].shape)\n",
    "display_grayscale_array(array=sample_x[i].permute(1,2,0))\n",
    "plot_class_masks(sample_y[i].permute(1,2,0))"
   ]
  },
  {
   "cell_type": "code",
   "execution_count": 10,
   "metadata": {},
   "outputs": [
    {
     "data": {
      "image/png": "[encoded data removed]",
      "text/plain": [
       "<Figure size 640x480 with 1 Axes>"
      ]
     },
     "metadata": {},
     "output_type": "display_data"
    }
   ],
   "source": [
    "display_segmented_image(y=sample_y[i].permute(1,2,0))\n"
   ]
  },
  {
   "cell_type": "markdown",
   "metadata": {},
   "source": [
    "## Trainning"
   ]
  },
  {
   "cell_type": "code",
   "execution_count": 11,
   "metadata": {},
   "outputs": [],
   "source": [
    "ToTrain=False\n",
    "device = torch.device(\"cuda\" if torch.cuda.is_available() else \"cpu\")\n",
    "model =  UNet(n_channels=1, n_classes=num_classes).to(device) #n_channels=1 for grayscale\n",
    "\n",
    "# trainning Hyper-paramters\n",
    "criterion = nn.BCEWithLogitsLoss() # loss func : has Sigmoid + BCELoss. more numerically stable than using a plain Sigmoid followed by a BCELoss as\n",
    "optimizer = optim.Adam(model.parameters(), lr=0.001)\n",
    "num_epochs = 30"
   ]
  },
  {
   "cell_type": "code",
   "execution_count": null,
   "metadata": {},
   "outputs": [
    {
     "name": "stdout",
     "output_type": "stream",
     "text": [
      "Epoch 1, Train Loss: 0.4068, Val Loss: 0.1857\n",
      "Epoch 2, Train Loss: 0.1051, Val Loss: 0.0694\n",
      "Epoch 3, Train Loss: 0.0551, Val Loss: 0.0461\n",
      "Epoch 4, Train Loss: 0.0394, Val Loss: 0.0364\n",
      "Epoch 5, Train Loss: 0.0302, Val Loss: 0.0274\n",
      "Epoch 6, Train Loss: 0.0243, Val Loss: 0.0240\n",
      "Epoch 7, Train Loss: 0.0206, Val Loss: 0.0197\n",
      "Epoch 8, Train Loss: 0.0177, Val Loss: 0.0161\n",
      "Epoch 9, Train Loss: 0.0153, Val Loss: 0.0169\n",
      "Epoch 10, Train Loss: 0.0136, Val Loss: 0.0130\n",
      "Epoch 11, Train Loss: 0.0119, Val Loss: 0.0106\n",
      "Epoch 12, Train Loss: 0.0106, Val Loss: 0.0108\n",
      "Epoch 13, Train Loss: 0.0100, Val Loss: 0.0099\n",
      "Epoch 14, Train Loss: 0.0090, Val Loss: 0.0082\n",
      "Epoch 15, Train Loss: 0.0084, Val Loss: 0.0081\n",
      "Epoch 16, Train Loss: 0.0077, Val Loss: 0.0073\n",
      "Epoch 17, Train Loss: 0.0074, Val Loss: 0.0073\n",
      "Epoch 18, Train Loss: 0.0071, Val Loss: 0.0069\n",
      "Epoch 19, Train Loss: 0.0070, Val Loss: 0.0066\n",
      "Epoch 20, Train Loss: 0.0066, Val Loss: 0.0062\n",
      "Epoch 21, Train Loss: 0.0064, Val Loss: 0.0061\n",
      "Epoch 22, Train Loss: 0.0062, Val Loss: 0.0062\n",
      "Epoch 23, Train Loss: 0.0061, Val Loss: 0.0059\n",
      "Epoch 24, Train Loss: 0.0060, Val Loss: 0.0058\n",
      "Epoch 25, Train Loss: 0.0059, Val Loss: 0.0057\n",
      "Epoch 26, Train Loss: 0.0058, Val Loss: 0.0055\n",
      "Epoch 27, Train Loss: 0.0057, Val Loss: 0.0054\n",
      "Epoch 28, Train Loss: 0.0056, Val Loss: 0.0054\n",
      "Epoch 29, Train Loss: 0.0056, Val Loss: 0.0058\n",
      "Epoch 30, Train Loss: 0.0055, Val Loss: 0.0053\n"
     ]
    },
    {
     "data": {
      "image/png": "[encoded data removed]",
      "text/plain": [
       "<Figure size 1000x500 with 1 Axes>"
      ]
     },
     "metadata": {},
     "output_type": "display_data"
    }
   ],
   "source": [
    "if ToTrain:\n",
    "    train_loss_values = []\n",
    "    val_loss_values = []\n",
    "\n",
    "    for epoch in range(num_epochs):\n",
    "        model.train()\n",
    "        running_loss = 0.0\n",
    "        for inputs, labels in train_loader:\n",
    "            inputs, labels = inputs.to(device), labels.to(device)\n",
    "            optimizer.zero_grad()\n",
    "            outputs = model(inputs)\n",
    "            loss = criterion(outputs, labels)\n",
    "            loss.backward()\n",
    "            optimizer.step()\n",
    "            running_loss += loss.item()\n",
    "        train_loss_values.append(running_loss / len(train_loader))\n",
    "        \n",
    "        model.eval()\n",
    "        val_running_loss = 0.0\n",
    "        with torch.no_grad():\n",
    "            for inputs, labels in val_loader:\n",
    "                inputs, labels = inputs.to(device), labels.to(device)\n",
    "                outputs = model(inputs)\n",
    "                loss = criterion(outputs, labels)\n",
    "                val_running_loss += loss.item()\n",
    "        val_loss_values.append(val_running_loss / len(val_loader))\n",
    "        \n",
    "        print(f\"Epoch {epoch+1}, Train Loss: {train_loss_values[-1]:.4f}, Val Loss: {val_loss_values[-1]:.4f}\")\n",
    "\n",
    "    # Plotting the training and validation loss\n",
    "    plt.figure(figsize=(10, 5))\n",
    "    plt.plot(train_loss_values, label='Train Loss')\n",
    "    plt.plot(val_loss_values, label='Validation Loss')\n",
    "    plt.xlabel('Epoch')\n",
    "    plt.ylabel('Loss')\n",
    "    plt.title('Training and Validation Loss Over Epochs')\n",
    "    plt.legend()\n",
    "    plt.show()\n",
    "\n",
    "else:\n",
    "    print(\"skipped training\")\n"
   ]
  },
  {
   "cell_type": "code",
   "execution_count": 12,
   "metadata": {},
   "outputs": [
    {
     "name": "stdout",
     "output_type": "stream",
     "text": [
      "loaded model from v1\n"
     ]
    }
   ],
   "source": [
    "if ToTrain:\n",
    "    torch.save(model.state_dict(), 'v1.pth')\n",
    "    print(\"saved model as v1.pth\")\n",
    "else:\n",
    "    model.load_state_dict(torch.load('v1.pth'))\n",
    "    model.eval()\n",
    "    print(\"loaded model from v1\")"
   ]
  },
  {
   "cell_type": "code",
   "execution_count": 13,
   "metadata": {},
   "outputs": [
    {
     "data": {
      "image/png": "[encoded data removed]",
      "text/plain": [
       "<Figure size 640x480 with 1 Axes>"
      ]
     },
     "metadata": {},
     "output_type": "display_data"
    }
   ],
   "source": [
    "display_grayscale_array(array=sample_x[i].permute(1,2,0))"
   ]
  },
  {
   "cell_type": "code",
   "execution_count": 14,
   "metadata": {},
   "outputs": [
    {
     "data": {
      "image/png": "[encoded data removed]",
      "text/plain": [
       "<Figure size 640x480 with 1 Axes>"
      ]
     },
     "metadata": {},
     "output_type": "display_data"
    }
   ],
   "source": [
    "r = model(sample_x.to(device)[i:i+1])\n",
    "display_segmented_image(y=r.permute(0,2,3,1).cpu()[0])"
   ]
  },
  {
   "cell_type": "code",
   "execution_count": 28,
   "metadata": {},
   "outputs": [
    {
     "data": {
      "image/png": "[encoded data removed]",
      "text/plain": [
       "<Figure size 640x480 with 1 Axes>"
      ]
     },
     "metadata": {},
     "output_type": "display_data"
    }
   ],
   "source": [
    "display_segmented_image(y=sample_y[i].permute(1,2,0).cpu())"
   ]
  },
  {
   "cell_type": "markdown",
   "metadata": {},
   "source": [
    "As You can see the predicition is matching the ground truth for a sample from the train set.\n",
    "Now lets Evaluate the model"
   ]
  },
  {
   "cell_type": "markdown",
   "metadata": {},
   "source": [
    "## Model Evaluatation"
   ]
  },
  {
   "cell_type": "markdown",
   "metadata": {},
   "source": [
    "### Evaluatation metrics"
   ]
  },
  {
   "cell_type": "code",
   "execution_count": 13,
   "metadata": {},
   "outputs": [],
   "source": [
    "def batch_iou(preds, labels, num_classes):\n",
    "    \"\"\"\n",
    "    Calculate mean Intersection over Union (mIoU) for a batch of predictions and labels.\n",
    "    \n",
    "    Parameters:\n",
    "    preds (Tensor): Predictions tensor with shape (batch_size, height, width), containing class indices for each pixel.\n",
    "    labels (Tensor): Labels tensor with shape (batch_size, height, width), containing class indices for each pixel.\n",
    "    num_classes (int): The number of classes.\n",
    "    \n",
    "    Returns:\n",
    "    float: The mean IoU for the batch.\n",
    "    \"\"\"\n",
    "    # Initialize variables to store total intersection and union across the batch, for each class\n",
    "    total_intersection = torch.zeros(num_classes)\n",
    "    total_union = torch.zeros(num_classes)\n",
    "    \n",
    "    for cls in range(num_classes):\n",
    "        # Find pixels of the current class\n",
    "        pred_cls = preds == cls\n",
    "        label_cls = labels == cls\n",
    "        \n",
    "        # Calculate intersection and union for the current class\n",
    "        intersection = torch.logical_and(pred_cls, label_cls).sum()\n",
    "        union = torch.logical_or(pred_cls, label_cls).sum()\n",
    "        \n",
    "        total_intersection[cls] += intersection\n",
    "        total_union[cls] += union\n",
    "    \n",
    "    # Avoid division by zero for classes not present in predictions/labels\n",
    "    ious = total_intersection / (total_union + 1e-6)\n",
    "    \n",
    "    # Calculate mean IoU across classes\n",
    "    mean_iou = ious.mean().item()\n",
    "    \n",
    "    return mean_iou\n"
   ]
  },
  {
   "cell_type": "code",
   "execution_count": 14,
   "metadata": {},
   "outputs": [],
   "source": [
    "def iou_score(outputs, labels, num_classes):\n",
    "    \"\"\"\n",
    "    Calculate mean IoU for a batch of predictions and labels.\n",
    "    \n",
    "    Parameters:\n",
    "    outputs (Tensor): A tensor of shape (batch_size, num_classes, height, width)\n",
    "                      containing the predicted probabilities for each class.\n",
    "    labels (Tensor): A tensor of shape (batch_size, num_classes, height, width)\n",
    "                     containing the one-hot encoded ground truth labels.\n",
    "    num_classes (int): The number of classes in the segmentation task.\n",
    "    \n",
    "    Returns:\n",
    "    float: The mean IoU for the batch.\n",
    "    \"\"\"\n",
    "    # Ensure the outputs are in binary format (e.g., 0 or 1)\n",
    "    _, preds = torch.max(outputs, 1)  # Get the predicted class for each pixel\n",
    "    preds = F.one_hot(preds, num_classes).permute(0, 3, 1, 2).float()  # Convert to one-hot encoding\n",
    "    \n",
    "    ious = []\n",
    "    for cls in range(num_classes):  # Calculate IoU for each class\n",
    "        intersection = (preds[:, cls] * labels[:, cls]).sum(dim=(1, 2))\n",
    "        union = (preds[:, cls] + labels[:, cls]).clamp(0, 1).sum(dim=(1, 2))\n",
    "        iou = intersection / (union + 1e-6)  # Avoid division by zero\n",
    "        ious.append(iou.mean().item())  # Average IoU for this class across the batch\n",
    "    \n",
    "    mean_iou = sum(ious) / len(ious)\n",
    "\n",
    "    return mean_iou  # Return mean IoU across all classes"
   ]
  },
  {
   "cell_type": "code",
   "execution_count": 31,
   "metadata": {},
   "outputs": [
    {
     "name": "stdout",
     "output_type": "stream",
     "text": [
      "Mean IoU: 0.11118628084659576\n",
      "Mean Entropy: 1.9686205387115479\n"
     ]
    }
   ],
   "source": [
    "def calculate_mean_iou(predictions, ground_truth, num_classes=10):\n",
    "    \"\"\"\n",
    "    Calculate the Mean Intersection over Union (Mean IoU) given one-hot encoded predictions\n",
    "    and ground truth labels.\n",
    "    \"\"\"\n",
    "    # Flatten the height and width dimensions\n",
    "    predictions = predictions.reshape(-1, num_classes).bool()\n",
    "    ground_truth = ground_truth.reshape(-1, num_classes).bool()\n",
    "    \n",
    "    iou_per_class = []\n",
    "    for cls in range(num_classes):\n",
    "        true_positive = (predictions[:, cls] & ground_truth[:, cls]).sum().float()\n",
    "        false_positive = (predictions[:, cls] & ~ground_truth[:, cls]).sum().float()\n",
    "        false_negative = (~predictions[:, cls] & ground_truth[:, cls]).sum().float()\n",
    "        union = true_positive + false_positive + false_negative\n",
    "        iou = true_positive / (union + 1e-6)\n",
    "        iou_per_class.append(iou)\n",
    "    \n",
    "    mean_iou = torch.stack(iou_per_class).mean().item()\n",
    "    return mean_iou\n",
    "\n",
    "def calculate_mean_entropy(logits):\n",
    "    \"\"\"\n",
    "    Calculate the Mean Entropy of the model's predictions (logits).\n",
    "    \"\"\"\n",
    "    probabilities = F.softmax(logits, dim=1)\n",
    "    log_probabilities = F.log_softmax(logits, dim=1)\n",
    "    entropy = -(probabilities * log_probabilities).sum(dim=1).mean().item()\n",
    "    return entropy\n",
    "\n",
    "logits = model(sample_x.to(device))\n",
    "# Convert logits to one-hot encoded predictions\n",
    "probabilities = F.softmax(logits, dim=1)\n",
    "predictions = torch.argmax(probabilities, dim=1)\n",
    "predictions_one_hot = F.one_hot(predictions, num_classes=logits.shape[1]).permute(0, 3, 1, 2)\n",
    "\n",
    "mean_iou = calculate_mean_iou(predictions_one_hot, sample_y.to(device), num_classes=10)\n",
    "mean_entropy = calculate_mean_entropy(logits)\n",
    "\n",
    "print(f\"Mean IoU: {mean_iou}\")\n",
    "print(f\"Mean Entropy: {mean_entropy}\")\n"
   ]
  },
  {
   "cell_type": "code",
   "execution_count": 63,
   "metadata": {},
   "outputs": [
    {
     "data": {
      "text/plain": [
       "tensor([ 0.0043, -0.0099, -0.0873,  0.0101, -0.0691,  0.0943, -0.0145, -0.0380,\n",
       "        -0.0500, -0.0836], device='cuda:0', grad_fn=<SelectBackward0>)"
      ]
     },
     "execution_count": 63,
     "metadata": {},
     "output_type": "execute_result"
    }
   ],
   "source": [
    "r[0,:,0,0]"
   ]
  },
  {
   "cell_type": "code",
   "execution_count": 33,
   "metadata": {},
   "outputs": [
    {
     "ename": "NameError",
     "evalue": "name 'iou_score' is not defined",
     "output_type": "error",
     "traceback": [
      "\u001b[0;31m---------------------------------------------------------------------------\u001b[0m",
      "\u001b[0;31mNameError\u001b[0m                                 Traceback (most recent call last)",
      "Cell \u001b[0;32mIn[33], line 5\u001b[0m\n\u001b[1;32m      3\u001b[0m softmax_outputs \u001b[38;5;241m=\u001b[39m torch\u001b[38;5;241m.\u001b[39msoftmax(r, dim\u001b[38;5;241m=\u001b[39m\u001b[38;5;241m1\u001b[39m)\u001b[38;5;241m.\u001b[39mto(device) \u001b[38;5;66;03m#normalize the logits to make pred\u001b[39;00m\n\u001b[1;32m      4\u001b[0m \u001b[38;5;66;03m# print(batch_iou(softmax_outputs, sample_y.to(device),num_classes))\u001b[39;00m\n\u001b[0;32m----> 5\u001b[0m \u001b[38;5;28mprint\u001b[39m(\u001b[43miou_score\u001b[49m(r[i], sample_y\u001b[38;5;241m.\u001b[39mto(device),num_classes))\n",
      "\u001b[0;31mNameError\u001b[0m: name 'iou_score' is not defined"
     ]
    }
   ],
   "source": [
    "model.eval()\n",
    "logits=model(sample_x.to(device)).to(device)\n",
    "softmax_outputs = torch.softmax(logits, dim=1).to(device) #normalize the logits to make pred\n",
    "# print(batch_iou(softmax_outputs, sample_y.to(device),num_classes))\n",
    "print(iou_score(logits, sample_y.to(device),num_classes))"
   ]
  },
  {
   "cell_type": "code",
   "execution_count": 32,
   "metadata": {},
   "outputs": [
    {
     "ename": "ValueError",
     "evalue": "all the input array dimensions except for the concatenation axis must match exactly, but along dimension 1, the array at index 0 has size 500 and the array at index 1 has size 16",
     "output_type": "error",
     "traceback": [
      "\u001b[0;31m---------------------------------------------------------------------------\u001b[0m",
      "\u001b[0;31mValueError\u001b[0m                                Traceback (most recent call last)",
      "Cell \u001b[0;32mIn[32], line 23\u001b[0m\n\u001b[1;32m     20\u001b[0m test_miou \u001b[38;5;241m=\u001b[39m np\u001b[38;5;241m.\u001b[39marray(test_miou)\n\u001b[1;32m     22\u001b[0m \u001b[38;5;66;03m# Calculate and print correlation\u001b[39;00m\n\u001b[0;32m---> 23\u001b[0m correlation \u001b[38;5;241m=\u001b[39m \u001b[43mnp\u001b[49m\u001b[38;5;241;43m.\u001b[39;49m\u001b[43mcorrcoef\u001b[49m\u001b[43m(\u001b[49m\u001b[43mtest_uncertainties\u001b[49m\u001b[43m,\u001b[49m\u001b[43m \u001b[49m\u001b[43mtest_miou\u001b[49m\u001b[43m)\u001b[49m[\u001b[38;5;241m0\u001b[39m, \u001b[38;5;241m1\u001b[39m]\n\u001b[1;32m     24\u001b[0m \u001b[38;5;28mprint\u001b[39m(\u001b[38;5;124mf\u001b[39m\u001b[38;5;124m\"\u001b[39m\u001b[38;5;124mCorrelation between mean entropy (uncertainty) and mIoU: \u001b[39m\u001b[38;5;132;01m{\u001b[39;00mcorrelation\u001b[38;5;132;01m:\u001b[39;00m\u001b[38;5;124m.4f\u001b[39m\u001b[38;5;132;01m}\u001b[39;00m\u001b[38;5;124m\"\u001b[39m)\n",
      "File \u001b[0;32m<__array_function__ internals>:200\u001b[0m, in \u001b[0;36mcorrcoef\u001b[0;34m(*args, **kwargs)\u001b[0m\n",
      "File \u001b[0;32m~/SafeML_2/lib/python3.8/site-packages/numpy/lib/function_base.py:2846\u001b[0m, in \u001b[0;36mcorrcoef\u001b[0;34m(x, y, rowvar, bias, ddof, dtype)\u001b[0m\n\u001b[1;32m   2842\u001b[0m \u001b[38;5;28;01mif\u001b[39;00m bias \u001b[38;5;129;01mis\u001b[39;00m \u001b[38;5;129;01mnot\u001b[39;00m np\u001b[38;5;241m.\u001b[39m_NoValue \u001b[38;5;129;01mor\u001b[39;00m ddof \u001b[38;5;129;01mis\u001b[39;00m \u001b[38;5;129;01mnot\u001b[39;00m np\u001b[38;5;241m.\u001b[39m_NoValue:\n\u001b[1;32m   2843\u001b[0m     \u001b[38;5;66;03m# 2015-03-15, 1.10\u001b[39;00m\n\u001b[1;32m   2844\u001b[0m     warnings\u001b[38;5;241m.\u001b[39mwarn(\u001b[38;5;124m'\u001b[39m\u001b[38;5;124mbias and ddof have no effect and are deprecated\u001b[39m\u001b[38;5;124m'\u001b[39m,\n\u001b[1;32m   2845\u001b[0m                   \u001b[38;5;167;01mDeprecationWarning\u001b[39;00m, stacklevel\u001b[38;5;241m=\u001b[39m\u001b[38;5;241m3\u001b[39m)\n\u001b[0;32m-> 2846\u001b[0m c \u001b[38;5;241m=\u001b[39m \u001b[43mcov\u001b[49m\u001b[43m(\u001b[49m\u001b[43mx\u001b[49m\u001b[43m,\u001b[49m\u001b[43m \u001b[49m\u001b[43my\u001b[49m\u001b[43m,\u001b[49m\u001b[43m \u001b[49m\u001b[43mrowvar\u001b[49m\u001b[43m,\u001b[49m\u001b[43m \u001b[49m\u001b[43mdtype\u001b[49m\u001b[38;5;241;43m=\u001b[39;49m\u001b[43mdtype\u001b[49m\u001b[43m)\u001b[49m\n\u001b[1;32m   2847\u001b[0m \u001b[38;5;28;01mtry\u001b[39;00m:\n\u001b[1;32m   2848\u001b[0m     d \u001b[38;5;241m=\u001b[39m diag(c)\n",
      "File \u001b[0;32m<__array_function__ internals>:200\u001b[0m, in \u001b[0;36mcov\u001b[0;34m(*args, **kwargs)\u001b[0m\n",
      "File \u001b[0;32m~/SafeML_2/lib/python3.8/site-packages/numpy/lib/function_base.py:2640\u001b[0m, in \u001b[0;36mcov\u001b[0;34m(m, y, rowvar, bias, ddof, fweights, aweights, dtype)\u001b[0m\n\u001b[1;32m   2638\u001b[0m     \u001b[38;5;28;01mif\u001b[39;00m \u001b[38;5;129;01mnot\u001b[39;00m rowvar \u001b[38;5;129;01mand\u001b[39;00m y\u001b[38;5;241m.\u001b[39mshape[\u001b[38;5;241m0\u001b[39m] \u001b[38;5;241m!=\u001b[39m \u001b[38;5;241m1\u001b[39m:\n\u001b[1;32m   2639\u001b[0m         y \u001b[38;5;241m=\u001b[39m y\u001b[38;5;241m.\u001b[39mT\n\u001b[0;32m-> 2640\u001b[0m     X \u001b[38;5;241m=\u001b[39m \u001b[43mnp\u001b[49m\u001b[38;5;241;43m.\u001b[39;49m\u001b[43mconcatenate\u001b[49m\u001b[43m(\u001b[49m\u001b[43m(\u001b[49m\u001b[43mX\u001b[49m\u001b[43m,\u001b[49m\u001b[43m \u001b[49m\u001b[43my\u001b[49m\u001b[43m)\u001b[49m\u001b[43m,\u001b[49m\u001b[43m \u001b[49m\u001b[43maxis\u001b[49m\u001b[38;5;241;43m=\u001b[39;49m\u001b[38;5;241;43m0\u001b[39;49m\u001b[43m)\u001b[49m\n\u001b[1;32m   2642\u001b[0m \u001b[38;5;28;01mif\u001b[39;00m ddof \u001b[38;5;129;01mis\u001b[39;00m \u001b[38;5;28;01mNone\u001b[39;00m:\n\u001b[1;32m   2643\u001b[0m     \u001b[38;5;28;01mif\u001b[39;00m bias \u001b[38;5;241m==\u001b[39m \u001b[38;5;241m0\u001b[39m:\n",
      "File \u001b[0;32m<__array_function__ internals>:200\u001b[0m, in \u001b[0;36mconcatenate\u001b[0;34m(*args, **kwargs)\u001b[0m\n",
      "\u001b[0;31mValueError\u001b[0m: all the input array dimensions except for the concatenation axis must match exactly, but along dimension 1, the array at index 0 has size 500 and the array at index 1 has size 16"
     ]
    }
   ],
   "source": [
    "model.eval()\n",
    "test_mIoU, test_mEntropy = [], []\n",
    "\n",
    "with torch.no_grad():\n",
    "    for inputs, labels in test_loader:\n",
    "        inputs, labels = inputs.to(device), labels.to(device)\n",
    "        outputs = model(inputs)  # model outputs is just  logits, as the loss funtion had the sigmoid included in it\n",
    "        softmax_outputs = torch.softmax(outputs, dim=1) #normalize the logits to make pred\n",
    "        \n",
    "        # Calculate entropy for each pixel and then average over the batch\n",
    "        batch_Entropy = entropy(softmax_outputs.cpu().numpy(), axis=1).mean(axis=(1, 2))\n",
    "        test_mEntropy.extend(batch_Entropy)\n",
    "        \n",
    "        # Assuming you have a function to calculate IoU per batch, named `batch_iou`\n",
    "        mIoU = iou_score(softmax_outputs, labels,num_classes)\n",
    "        test_mIoU.append(mIoU)\n",
    "\n",
    "# Convert lists to numpy arrays for correlation calculation\n",
    "test_mEntropy = np.array(test_mEntropy)\n",
    "test_miou = np.array(test_mIoU)\n",
    "\n",
    "# Calculate and print correlation\n",
    "correlation = np.corrcoef(test_mEntropy, test_miou)[0, 1]\n",
    "print(f\"Correlation between mean entropy (uncertainty) and mIoU: {correlation:.4f}\")\n"
   ]
  },
  {
   "cell_type": "code",
   "execution_count": null,
   "metadata": {},
   "outputs": [],
   "source": [
    "# Convert lists to numpy arrays\n",
    "test_entropies = np.array(test_entropies)\n",
    "test_ious = np.array(test_ious)\n",
    "\n",
    "# Compute mean entropy and mean IoU for reporting\n",
    "mean_entropy = np.mean(test_entropies)\n",
    "mean_iou = np.mean(test_ious)\n",
    "\n",
    "print(f\"Mean Entropy (Uncertainty): {mean_entropy}\")\n",
    "print(f\"Mean IoU: {mean_iou}\")"
   ]
  },
  {
   "cell_type": "code",
   "execution_count": null,
   "metadata": {},
   "outputs": [],
   "source": [
    "correlation = np.corrcoef(test_entropies, test_ious)[0, 1]\n",
    "print(f\"Correlation between Uncertainty (Mean Entropy) and mIoU: {correlation}\")\n"
   ]
  }
 ],
 "metadata": {
  "kernelspec": {
   "display_name": "SafeML_2",
   "language": "python",
   "name": "python3"
  },
  "language_info": {
   "codemirror_mode": {
    "name": "ipython",
    "version": 3
   },
   "file_extension": ".py",
   "mimetype": "text/x-python",
   "name": "python",
   "nbconvert_exporter": "python",
   "pygments_lexer": "ipython3",
   "version": "3.8.10"
  }
 },
 "nbformat": 4,
 "nbformat_minor": 2
}
