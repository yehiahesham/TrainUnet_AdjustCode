{
 "cells": [
  {
   "cell_type": "code",
   "execution_count": 1,
   "metadata": {},
   "outputs": [
    {
     "name": "stderr",
     "output_type": "stream",
     "text": [
      "/home2/yehia.ahmed/SafeML_2/lib/python3.8/site-packages/tqdm/auto.py:22: TqdmWarning: IProgress not found. Please update jupyter and ipywidgets. See https://ipywidgets.readthedocs.io/en/stable/user_install.html\n",
      "  from .autonotebook import tqdm as notebook_tqdm\n"
     ]
    }
   ],
   "source": [
    "import numpy as np\n",
    "import torch\n",
    "import torch.nn as nn\n",
    "import torch.nn.functional as F\n",
    "import torch.optim as optim\n",
    "import matplotlib.pyplot as plt\n",
    "from torch.utils.data import TensorDataset, DataLoader , random_split\n",
    "from scipy.stats import pearsonr\n",
    "from scipy.stats import entropy"
   ]
  },
  {
   "cell_type": "markdown",
   "metadata": {},
   "source": [
    "## Unet Model Definition"
   ]
  },
  {
   "cell_type": "code",
   "execution_count": 2,
   "metadata": {},
   "outputs": [
    {
     "name": "stdout",
     "output_type": "stream",
     "text": [
      "UNet(\n",
      "  (inc): DoubleConv(\n",
      "    (double_conv): Sequential(\n",
      "      (0): Conv2d(1, 64, kernel_size=(3, 3), stride=(1, 1), padding=(1, 1))\n",
      "      (1): BatchNorm2d(64, eps=1e-05, momentum=0.1, affine=True, track_running_stats=True)\n",
      "      (2): ReLU(inplace=True)\n",
      "      (3): Conv2d(64, 64, kernel_size=(3, 3), stride=(1, 1), padding=(1, 1))\n",
      "      (4): BatchNorm2d(64, eps=1e-05, momentum=0.1, affine=True, track_running_stats=True)\n",
      "      (5): ReLU(inplace=True)\n",
      "    )\n",
      "  )\n",
      "  (down1): Down(\n",
      "    (maxpool_conv): Sequential(\n",
      "      (0): MaxPool2d(kernel_size=2, stride=2, padding=0, dilation=1, ceil_mode=False)\n",
      "      (1): DoubleConv(\n",
      "        (double_conv): Sequential(\n",
      "          (0): Conv2d(64, 128, kernel_size=(3, 3), stride=(1, 1), padding=(1, 1))\n",
      "          (1): BatchNorm2d(128, eps=1e-05, momentum=0.1, affine=True, track_running_stats=True)\n",
      "          (2): ReLU(inplace=True)\n",
      "          (3): Conv2d(128, 128, kernel_size=(3, 3), stride=(1, 1), padding=(1, 1))\n",
      "          (4): BatchNorm2d(128, eps=1e-05, momentum=0.1, affine=True, track_running_stats=True)\n",
      "          (5): ReLU(inplace=True)\n",
      "        )\n",
      "      )\n",
      "    )\n",
      "  )\n",
      "  (down2): Down(\n",
      "    (maxpool_conv): Sequential(\n",
      "      (0): MaxPool2d(kernel_size=2, stride=2, padding=0, dilation=1, ceil_mode=False)\n",
      "      (1): DoubleConv(\n",
      "        (double_conv): Sequential(\n",
      "          (0): Conv2d(128, 256, kernel_size=(3, 3), stride=(1, 1), padding=(1, 1))\n",
      "          (1): BatchNorm2d(256, eps=1e-05, momentum=0.1, affine=True, track_running_stats=True)\n",
      "          (2): ReLU(inplace=True)\n",
      "          (3): Conv2d(256, 256, kernel_size=(3, 3), stride=(1, 1), padding=(1, 1))\n",
      "          (4): BatchNorm2d(256, eps=1e-05, momentum=0.1, affine=True, track_running_stats=True)\n",
      "          (5): ReLU(inplace=True)\n",
      "        )\n",
      "      )\n",
      "    )\n",
      "  )\n",
      "  (up1): Up(\n",
      "    (up): Upsample(scale_factor=2.0, mode=bilinear)\n",
      "    (conv): DoubleConv(\n",
      "      (double_conv): Sequential(\n",
      "        (0): Conv2d(256, 128, kernel_size=(3, 3), stride=(1, 1), padding=(1, 1))\n",
      "        (1): BatchNorm2d(128, eps=1e-05, momentum=0.1, affine=True, track_running_stats=True)\n",
      "        (2): ReLU(inplace=True)\n",
      "        (3): Conv2d(128, 128, kernel_size=(3, 3), stride=(1, 1), padding=(1, 1))\n",
      "        (4): BatchNorm2d(128, eps=1e-05, momentum=0.1, affine=True, track_running_stats=True)\n",
      "        (5): ReLU(inplace=True)\n",
      "      )\n",
      "    )\n",
      "  )\n",
      "  (up2): Up(\n",
      "    (up): Upsample(scale_factor=2.0, mode=bilinear)\n",
      "    (conv): DoubleConv(\n",
      "      (double_conv): Sequential(\n",
      "        (0): Conv2d(128, 64, kernel_size=(3, 3), stride=(1, 1), padding=(1, 1))\n",
      "        (1): BatchNorm2d(64, eps=1e-05, momentum=0.1, affine=True, track_running_stats=True)\n",
      "        (2): ReLU(inplace=True)\n",
      "        (3): Conv2d(64, 64, kernel_size=(3, 3), stride=(1, 1), padding=(1, 1))\n",
      "        (4): BatchNorm2d(64, eps=1e-05, momentum=0.1, affine=True, track_running_stats=True)\n",
      "        (5): ReLU(inplace=True)\n",
      "      )\n",
      "    )\n",
      "  )\n",
      "  (outc): Conv2d(64, 10, kernel_size=(1, 1), stride=(1, 1))\n",
      ")\n"
     ]
    }
   ],
   "source": [
    "class DoubleConv(nn.Module):\n",
    "    \"\"\"(convolution => [BN] => ReLU) * 2\"\"\"\n",
    "    \n",
    "    def __init__(self, in_channels, out_channels, mid_channels=None):\n",
    "        super().__init__()\n",
    "        if not mid_channels:\n",
    "            mid_channels = out_channels\n",
    "        self.double_conv = nn.Sequential(\n",
    "            nn.Conv2d(in_channels, mid_channels, kernel_size=3, padding=1),\n",
    "            nn.BatchNorm2d(mid_channels),\n",
    "            nn.ReLU(inplace=True),\n",
    "            nn.Conv2d(mid_channels, out_channels, kernel_size=3, padding=1),\n",
    "            nn.BatchNorm2d(out_channels),\n",
    "            nn.ReLU(inplace=True)\n",
    "        )\n",
    "\n",
    "    def forward(self, x):\n",
    "        return self.double_conv(x)\n",
    "\n",
    "class Down(nn.Module):\n",
    "    \"\"\"Downscaling with maxpool then double conv\"\"\"\n",
    "    \n",
    "    def __init__(self, in_channels, out_channels):\n",
    "        super().__init__()\n",
    "        self.maxpool_conv = nn.Sequential(\n",
    "            nn.MaxPool2d(2),\n",
    "            DoubleConv(in_channels, out_channels)\n",
    "        )\n",
    "\n",
    "    def forward(self, x):\n",
    "        return self.maxpool_conv(x)\n",
    "\n",
    "class Up(nn.Module):\n",
    "    \"\"\"Upscaling then double conv\"\"\"\n",
    "    \n",
    "    def __init__(self, in_channels, out_channels, bilinear=True):\n",
    "        super().__init__()\n",
    "        \n",
    "        # if bilinear, use the normal convolutions to reduce the number of channels\n",
    "        if bilinear:\n",
    "            self.up = nn.Upsample(scale_factor=2, mode='bilinear', align_corners=True)\n",
    "            self.conv = DoubleConv(in_channels, out_channels, in_channels // 2)\n",
    "        else:\n",
    "            self.up = nn.ConvTranspose2d(in_channels , in_channels // 2, kernel_size=2, stride=2)\n",
    "            self.conv = DoubleConv(in_channels, out_channels)\n",
    "            \n",
    "\n",
    "    def forward(self, x1):#, x2):\n",
    "        x1 = self.up(x1)\n",
    "        \n",
    "        # input is CHW\n",
    "        # diffY = x2.size()[2] - x1.size()[2]\n",
    "        # diffX = x2.size()[3] - x1.size()[3]\n",
    "\n",
    "        # x1 = F.pad(x1, [diffX // 2, diffX - diffX // 2,\n",
    "        #                 diffY // 2, diffY - diffY // 2])\n",
    "        \n",
    "        # x = torch.cat([x2, x1], dim=1)\n",
    "        x=x1\n",
    "        return self.conv(x)\n",
    "\n",
    "class UNet(nn.Module):\n",
    "    def __init__(self, n_channels, n_classes, bilinear=True):\n",
    "        super(UNet, self).__init__()\n",
    "        self.n_channels = n_channels\n",
    "        self.n_classes = n_classes\n",
    "        self.bilinear = bilinear\n",
    "\n",
    "        self.inc = DoubleConv(n_channels, 64)\n",
    "        self.down1 = Down(64, 128)\n",
    "        self.down2 = Down(128, 256)\n",
    "        self.up1 = Up(256, 128, bilinear)\n",
    "        self.up2 = Up(128, 64, bilinear)\n",
    "        self.outc = nn.Conv2d(64, n_classes, kernel_size=1)\n",
    "\n",
    "    def forward(self, x):\n",
    "        x1 = self.inc(x)\n",
    "        x2 = self.down1(x1)\n",
    "        x3 = self.down2(x2)\n",
    "        x = self.up1(x3)#, x2)\n",
    "        x = self.up2(x)#, x1)\n",
    "        logits = self.outc(x)\n",
    "        return logits\n",
    "\n",
    "# Example: Creating a U-Net model for 1 input channel and 10 output classes\n",
    "model = UNet(n_channels=1, n_classes=10)\n",
    "print(model)\n"
   ]
  },
  {
   "cell_type": "markdown",
   "metadata": {},
   "source": [
    "### Evaluatation metrics"
   ]
  },
  {
   "cell_type": "code",
   "execution_count": 27,
   "metadata": {},
   "outputs": [],
   "source": [
    "#Ver1 of calculating miou and mean entropy\n",
    "def get_mean_iou(predictions_one_hot, ground_truth_one_hot, smooth=1e-6):\n",
    "    \"\"\"\n",
    "    Calculate the Mean Intersection over Union (mIoU).\n",
    "    \n",
    "    Args:\n",
    "    - predictions_one_hot (Tensor): Predictions tensor one-hot encoded.\n",
    "                                    Shape: [batch_size, num_classes, height, width].\n",
    "    - ground_truth_one_hot (Tensor): Ground truth tensor one-hot encoded.\n",
    "                                     Shape: [batch_size, num_classes, height, width].\n",
    "    - smooth (float): A small factor to avoid division by zero.\n",
    "    \n",
    "    Returns:\n",
    "    - float: The mean IoU score.\n",
    "    \"\"\"\n",
    "    # Ensure the input tensors are boolean\n",
    "    predictions_one_hot = predictions_one_hot.bool()\n",
    "    ground_truth_one_hot = ground_truth_one_hot.bool()\n",
    "    \n",
    "    # Intersection and Union\n",
    "    intersection = (predictions_one_hot & ground_truth_one_hot).sum(dim=(0, 2, 3))\n",
    "    union = (predictions_one_hot | ground_truth_one_hot).sum(dim=(0, 2, 3))\n",
    "    \n",
    "    # IoU for each class\n",
    "    iou_per_class = intersection / (union + smooth)\n",
    "    \n",
    "    # Mean IoU\n",
    "    mean_iou = iou_per_class.float().mean().item()\n",
    "    \n",
    "    return mean_iou\n",
    "\n",
    "def get_mean_entropy(logits):\n",
    "    \"\"\"\n",
    "    Calculate the Mean Entropy of the model's predictions (logits).\n",
    "    \"\"\"\n",
    "    probabilities = F.softmax(logits, dim=1)\n",
    "    log_probabilities = F.log_softmax(logits, dim=1)\n",
    "    entropy = -(probabilities * log_probabilities).sum(1).mean()\n",
    "    return entropy.item()"
   ]
  },
  {
   "cell_type": "markdown",
   "metadata": {},
   "source": [
    "## Creating and loading dataset"
   ]
  },
  {
   "cell_type": "code",
   "execution_count": 4,
   "metadata": {},
   "outputs": [
    {
     "name": "stderr",
     "output_type": "stream",
     "text": [
      "2024-03-20 12:11:04.818760: I tensorflow/core/platform/cpu_feature_guard.cc:182] This TensorFlow binary is optimized to use available CPU instructions in performance-critical operations.\n",
      "To enable the following instructions: AVX2 FMA, in other operations, rebuild TensorFlow with the appropriate compiler flags.\n",
      "2024-03-20 12:11:08.468253: W tensorflow/compiler/tf2tensorrt/utils/py_utils.cc:38] TF-TRT Warning: Could not find TensorRT\n"
     ]
    }
   ],
   "source": [
    "from SimpleDeepLearning.simple_deep_learning.mnist_extended.semantic_segmentation import (create_semantic_segmentation_dataset, display_segmented_image,\n",
    "                                                                       display_grayscale_array, plot_class_masks)"
   ]
  },
  {
   "cell_type": "code",
   "execution_count": 10,
   "metadata": {},
   "outputs": [],
   "source": [
    "#Dataset Paramerters\n",
    "num_train_samples=5000\n",
    "num_test_samples=1000\n",
    "image_shape=(60, 60)\n",
    "num_classes=10\n",
    "batch_size = 32  \n",
    "toShuffle=True"
   ]
  },
  {
   "cell_type": "code",
   "execution_count": 11,
   "metadata": {},
   "outputs": [
    {
     "name": "stdout",
     "output_type": "stream",
     "text": [
      "(5000, 60, 60, 1) (5000, 60, 60, 10)\n",
      "(1000, 60, 60, 1) (1000, 60, 60, 10)\n"
     ]
    }
   ],
   "source": [
    "train_x, train_y, test_x, test_y = create_semantic_segmentation_dataset(num_train_samples=num_train_samples,\n",
    "                                                                        num_test_samples=num_test_samples,\n",
    "                                                                        image_shape=image_shape,\n",
    "                                                                        num_classes=num_classes)\n",
    "print(train_x.shape, train_y.shape)\n",
    "print(test_x.shape, test_y.shape)"
   ]
  },
  {
   "cell_type": "code",
   "execution_count": 12,
   "metadata": {},
   "outputs": [],
   "source": [
    "# the permutation is needed to put the #channels in the end\n",
    "train_x_tensor = torch.tensor(train_x, dtype=torch.float32).permute(0, 3, 1, 2)\n",
    "train_y_tensor = torch.tensor(train_y, dtype=torch.float32).permute(0, 3, 1, 2)\n",
    "test_x_tensor = torch.tensor(test_x, dtype=torch.float32).permute(0, 3, 1, 2) \n",
    "test_y_tensor = torch.tensor(test_y, dtype=torch.float32).permute(0, 3, 1, 2) \n",
    "\n",
    "# Cal train and Val sizes\n",
    "dataset_size = len(train_x_tensor)\n",
    "val_size = int(dataset_size * 0.2)  # 20% for validation\n",
    "train_size = dataset_size - val_size\n",
    "\n",
    "# Split train train and Val as 80-20 splits\n",
    "train_dataset, val_dataset = random_split(TensorDataset(train_x_tensor, train_y_tensor), [train_size, val_size])\n",
    "\n",
    "\n",
    "train_loader = DataLoader(TensorDataset(train_x_tensor,train_y_tensor), batch_size=batch_size, shuffle=toShuffle)\n",
    "val_loader = DataLoader(val_dataset, batch_size=batch_size, shuffle=False)  # Typically, no need to shuffle validation data\n",
    "test_loader  = DataLoader(TensorDataset(test_x_tensor ,test_y_tensor ), batch_size=batch_size, shuffle=toShuffle)"
   ]
  },
  {
   "cell_type": "code",
   "execution_count": 13,
   "metadata": {},
   "outputs": [
    {
     "name": "stdout",
     "output_type": "stream",
     "text": [
      "len(train_loader)= 157\n",
      "len(val_loader)= 32\n",
      "len(test_loader)= 32\n"
     ]
    }
   ],
   "source": [
    "print(\"len(train_loader)=\",len(train_loader))\n",
    "print(\"len(val_loader)=\",len(val_loader))\n",
    "print(\"len(test_loader)=\",len(test_loader))\n",
    "sample = next(iter(train_loader))\n",
    "sample_x,sample_y = sample"
   ]
  },
  {
   "cell_type": "code",
   "execution_count": 14,
   "metadata": {},
   "outputs": [
    {
     "name": "stdout",
     "output_type": "stream",
     "text": [
      "torch.Size([1, 60, 60])\n",
      "torch.Size([10, 60, 60])\n"
     ]
    },
    {
     "data": {
      "image/png": "[encoded data removed]",
      "text/plain": [
       "<Figure size 640x480 with 1 Axes>"
      ]
     },
     "metadata": {},
     "output_type": "display_data"
    },
    {
     "data": {
      "image/png": "[encoded data removed]",
      "text/plain": [
       "<Figure size 4000x400 with 10 Axes>"
      ]
     },
     "metadata": {},
     "output_type": "display_data"
    }
   ],
   "source": [
    "i = np.random.randint(len(sample_x))\n",
    "print(sample_x[i].shape)\n",
    "print(sample_y[i].shape)\n",
    "display_grayscale_array(array=sample_x[i].permute(1,2,0))\n",
    "plot_class_masks(sample_y[i].permute(1,2,0))"
   ]
  },
  {
   "cell_type": "code",
   "execution_count": 15,
   "metadata": {},
   "outputs": [
    {
     "data": {
      "image/png": "[encoded data removed]",
      "text/plain": [
       "<Figure size 640x480 with 1 Axes>"
      ]
     },
     "metadata": {},
     "output_type": "display_data"
    }
   ],
   "source": [
    "display_segmented_image(y=sample_y[i].permute(1,2,0))\n"
   ]
  },
  {
   "cell_type": "markdown",
   "metadata": {},
   "source": [
    "## Trainning"
   ]
  },
  {
   "cell_type": "code",
   "execution_count": 22,
   "metadata": {},
   "outputs": [],
   "source": [
    "ToTrain=True\n",
    "device = torch.device(\"cuda\" if torch.cuda.is_available() else \"cpu\")\n",
    "model =  UNet(n_channels=1, n_classes=num_classes).to(device) #n_channels=1 for grayscale\n",
    "\n",
    "# trainning Hyper-paramters\n",
    "criterion = nn.BCEWithLogitsLoss() # loss func : has Sigmoid + BCELoss. more numerically stable than using a plain Sigmoid followed by a BCELoss as\n",
    "optimizer = optim.Adam(model.parameters(), lr=0.001)\n",
    "num_epochs = 40"
   ]
  },
  {
   "cell_type": "code",
   "execution_count": 24,
   "metadata": {},
   "outputs": [
    {
     "name": "stdout",
     "output_type": "stream",
     "text": [
      "Epoch 1, Train Loss: 0.1910, Val Loss: 0.0553, Mean IoU: 0.0188, Mean Entropy:2.2737\n",
      "Epoch 2, Train Loss: 0.0389, Val Loss: 0.0353, Mean IoU: 0.1369, Mean Entropy:2.1888\n",
      "Epoch 3, Train Loss: 0.0225, Val Loss: 0.0209, Mean IoU: 0.3483, Mean Entropy:2.1191\n",
      "Epoch 4, Train Loss: 0.0155, Val Loss: 0.0158, Mean IoU: 0.3120, Mean Entropy:2.0348\n",
      "Epoch 5, Train Loss: 0.0119, Val Loss: 0.0106, Mean IoU: 0.3927, Mean Entropy:2.0082\n",
      "Epoch 6, Train Loss: 0.0098, Val Loss: 0.0101, Mean IoU: 0.2971, Mean Entropy:1.9645\n",
      "Epoch 7, Train Loss: 0.0086, Val Loss: 0.0088, Mean IoU: 0.3329, Mean Entropy:1.9694\n",
      "Epoch 8, Train Loss: 0.0077, Val Loss: 0.0076, Mean IoU: 0.3209, Mean Entropy:1.9560\n",
      "Epoch 9, Train Loss: 0.0071, Val Loss: 0.0073, Mean IoU: 0.3419, Mean Entropy:1.9346\n",
      "Epoch 10, Train Loss: 0.0067, Val Loss: 0.0068, Mean IoU: 0.3076, Mean Entropy:1.9572\n",
      "Epoch 11, Train Loss: 0.0063, Val Loss: 0.0062, Mean IoU: 0.3545, Mean Entropy:1.9421\n",
      "Epoch 12, Train Loss: 0.0062, Val Loss: 0.0071, Mean IoU: 0.2826, Mean Entropy:1.9095\n",
      "Epoch 13, Train Loss: 0.0059, Val Loss: 0.0063, Mean IoU: 0.2987, Mean Entropy:1.8910\n",
      "Epoch 14, Train Loss: 0.0058, Val Loss: 0.0054, Mean IoU: 0.2982, Mean Entropy:1.9290\n",
      "Epoch 15, Train Loss: 0.0055, Val Loss: 0.0053, Mean IoU: 0.2891, Mean Entropy:1.9135\n",
      "Epoch 16, Train Loss: 0.0054, Val Loss: 0.0053, Mean IoU: 0.2719, Mean Entropy:1.9081\n",
      "Epoch 17, Train Loss: 0.0052, Val Loss: 0.0051, Mean IoU: 0.2902, Mean Entropy:1.9108\n",
      "Epoch 18, Train Loss: 0.0051, Val Loss: 0.0050, Mean IoU: 0.2837, Mean Entropy:1.9061\n",
      "Epoch 19, Train Loss: 0.0055, Val Loss: 0.0080, Mean IoU: 0.2537, Mean Entropy:1.8925\n",
      "Epoch 20, Train Loss: 0.0057, Val Loss: 0.0062, Mean IoU: 0.2076, Mean Entropy:1.9062\n",
      "Epoch 21, Train Loss: 0.0053, Val Loss: 0.0052, Mean IoU: 0.2381, Mean Entropy:1.9116\n",
      "Epoch 22, Train Loss: 0.0050, Val Loss: 0.0050, Mean IoU: 0.2372, Mean Entropy:1.8880\n",
      "Epoch 23, Train Loss: 0.0048, Val Loss: 0.0048, Mean IoU: 0.2536, Mean Entropy:1.8904\n",
      "Epoch 24, Train Loss: 0.0048, Val Loss: 0.0047, Mean IoU: 0.2409, Mean Entropy:1.8858\n",
      "Epoch 25, Train Loss: 0.0048, Val Loss: 0.0047, Mean IoU: 0.2371, Mean Entropy:1.8854\n",
      "Epoch 26, Train Loss: 0.0048, Val Loss: 0.0049, Mean IoU: 0.2085, Mean Entropy:1.8668\n",
      "Epoch 27, Train Loss: 0.0057, Val Loss: 0.0052, Mean IoU: 0.2342, Mean Entropy:1.8744\n",
      "Epoch 28, Train Loss: 0.0051, Val Loss: 0.0050, Mean IoU: 0.2416, Mean Entropy:1.8725\n",
      "Epoch 29, Train Loss: 0.0048, Val Loss: 0.0047, Mean IoU: 0.2334, Mean Entropy:1.8675\n",
      "Epoch 30, Train Loss: 0.0047, Val Loss: 0.0046, Mean IoU: 0.2170, Mean Entropy:1.8628\n",
      "Epoch 31, Train Loss: 0.0046, Val Loss: 0.0047, Mean IoU: 0.2204, Mean Entropy:1.8562\n",
      "Epoch 32, Train Loss: 0.0045, Val Loss: 0.0045, Mean IoU: 0.2324, Mean Entropy:1.8552\n",
      "Epoch 33, Train Loss: 0.0045, Val Loss: 0.0045, Mean IoU: 0.1971, Mean Entropy:1.8482\n",
      "Epoch 34, Train Loss: 0.0045, Val Loss: 0.0045, Mean IoU: 0.1993, Mean Entropy:1.8447\n",
      "Epoch 35, Train Loss: 0.0045, Val Loss: 0.0045, Mean IoU: 0.1974, Mean Entropy:1.8331\n",
      "Epoch 36, Train Loss: 0.0045, Val Loss: 0.0045, Mean IoU: 0.1960, Mean Entropy:1.8410\n",
      "Epoch 37, Train Loss: 0.0044, Val Loss: 0.0044, Mean IoU: 0.2002, Mean Entropy:1.8251\n",
      "Epoch 38, Train Loss: 0.0044, Val Loss: 0.0046, Mean IoU: 0.1910, Mean Entropy:1.8188\n",
      "Epoch 39, Train Loss: 0.0044, Val Loss: 0.0044, Mean IoU: 0.1761, Mean Entropy:1.8337\n",
      "Epoch 40, Train Loss: 0.0045, Val Loss: 0.0046, Mean IoU: 0.1715, Mean Entropy:1.7921\n"
     ]
    }
   ],
   "source": [
    "if ToTrain:\n",
    "    train_loss_values = []\n",
    "    val_loss_values = []\n",
    "    val_meanIou_values = []\n",
    "    val_meanEntropy_values = []\n",
    "\n",
    "\n",
    "    for epoch in range(num_epochs):\n",
    "        model.train()\n",
    "        running_loss = 0.0\n",
    "        for inputs, labels in train_loader:\n",
    "            inputs, labels = inputs.to(device), labels.to(device)\n",
    "            optimizer.zero_grad()\n",
    "            logits = model(inputs)\n",
    "            loss = criterion(logits, labels)\n",
    "            loss.backward()\n",
    "            optimizer.step()\n",
    "            running_loss += loss.item()\n",
    "        train_loss_values.append(running_loss / len(train_loader))\n",
    "        \n",
    "        model.eval()\n",
    "        val_running_loss = 0.0\n",
    "        val_running_mIoU=0.0\n",
    "        val_running_mEntropy=0.0\n",
    "        with torch.no_grad():\n",
    "            for inputs, labels in val_loader:\n",
    "                inputs, labels = inputs.to(device), labels.to(device)\n",
    "                logits = model(inputs)\n",
    "                probabilities = F.softmax(logits.cpu(), dim=1)\n",
    "                predictions = torch.argmax(probabilities, dim=1)\n",
    "                predictions_one_hot = F.one_hot(predictions, num_classes=logits.shape[1]).permute(0, 3, 1, 2)\n",
    "\n",
    "                # Calculate loss over the batch\n",
    "                loss = criterion(logits, labels)\n",
    "                val_running_loss += loss.item()\n",
    "                \n",
    "                # Calculate entropy for each pixel and then average over the batch\n",
    "                batch_mEntropy = get_mean_entropy(logits.cpu())\n",
    "                val_running_mEntropy += batch_mEntropy\n",
    "                \n",
    "                #  calculate IoU over batch\n",
    "                batch_mIoU= get_mean_iou(predictions_one_hot.float(), labels.float().cpu())\n",
    "                val_running_mIoU += batch_mIoU\n",
    "        \n",
    "        val_loss_values.append(val_running_loss / len(val_loader))\n",
    "        val_meanEntropy_values.append(val_running_mEntropy / len(val_loader))\n",
    "        val_meanIou_values.append(val_running_mIoU / len(val_loader))\n",
    "        \n",
    "        print(f\"Epoch {epoch+1}, Train Loss: {train_loss_values[-1]:.4f}, Val Loss: {val_loss_values[-1]:.4f}, Mean IoU: {val_meanIou_values[-1]:.4f}, Mean Entropy:{val_meanEntropy_values[-1]:.4f}\")\n",
    "else:\n",
    "    print(\"skipped training\")\n"
   ]
  },
  {
   "cell_type": "code",
   "execution_count": 25,
   "metadata": {},
   "outputs": [
    {
     "data": {
      "image/png": "[encoded data removed]",
      "text/plain": [
       "<Figure size 1000x500 with 1 Axes>"
      ]
     },
     "metadata": {},
     "output_type": "display_data"
    }
   ],
   "source": [
    "if ToTrain:\n",
    "    # Plotting the training and validation loss\n",
    "    plt.figure(figsize=(10, 5))\n",
    "    plt.plot(train_loss_values, label='Train Loss')\n",
    "    plt.plot(val_loss_values, label='Validation Loss')\n",
    "    plt.xlabel('Epoch')\n",
    "    plt.ylabel('Loss')\n",
    "    plt.title('Training and Validation Loss Over Epochs')\n",
    "    plt.legend()\n",
    "    plt.show()\n",
    "else:\n",
    "    print(\"skipped\")"
   ]
  },
  {
   "cell_type": "code",
   "execution_count": 26,
   "metadata": {},
   "outputs": [
    {
     "data": {
      "image/png": "[encoded data removed]",
      "text/plain": [
       "<Figure size 1000x500 with 1 Axes>"
      ]
     },
     "metadata": {},
     "output_type": "display_data"
    }
   ],
   "source": [
    "if ToTrain:\n",
    "    # Plotting Mean IoU and Mean Entropy\n",
    "    plt.figure(figsize=(10, 5))\n",
    "    plt.plot(val_meanIou_values, label='Mean IoU', marker='o')\n",
    "    plt.plot(val_meanEntropy_values, label='Mean Entropy', marker='x')\n",
    "    plt.xlabel('Epoch')\n",
    "    plt.ylabel('Metric Value')\n",
    "    plt.title('Mean IoU and Mean Entropy Over Epochs')\n",
    "    plt.legend()\n",
    "    plt.grid(True)\n",
    "    plt.show()\n",
    "else:\n",
    "    print(\"Training skipped, plotting skipped.\")\n"
   ]
  },
  {
   "cell_type": "markdown",
   "metadata": {},
   "source": [
    "##### Iou:\n",
    "A famous segmentation perfomance metric.\n",
    "\n",
    "A Higher Mean IoU values indicate better model performance, with more accurate segmentation predictions.\n",
    "\n",
    "##### Mean Entropy:\n",
    "Mean Entropy across the predicted segmentation map can indicate the average uncertainty the model has regarding each pixel's class membership.\n",
    "   1. Lower Mean Entropy values indicate higher certainty (confidence) in the model's predictions. \n",
    "   2. Higher entropy values suggest that the model is less certain about its predictions, reflecting a higher level of disorder or confusion in predicting class memberships.\n",
    "\n",
    "##### General expectation :\n",
    "\n",
    "As the model becomes better in its predictions (higher performance and accuracy in segmentation) we see  a higher Mean IoU. \n",
    "As Mean Iou increases, Mean Entropy should decrease, indicating lower uncertainty in the model's predictions.\n",
    "\n",
    "\n",
    "##### Actual (from the Graph) :\n",
    "the Acutal matches the expectation, AS the model improves , it gets a higher mean IoU and lower mean Entropy becuase it gets more confident about its result."
   ]
  },
  {
   "cell_type": "code",
   "execution_count": 28,
   "metadata": {},
   "outputs": [
    {
     "name": "stdout",
     "output_type": "stream",
     "text": [
      "saved model in v3.pth\n"
     ]
    }
   ],
   "source": [
    "if ToTrain:\n",
    "    name=\"v3.pth\"\n",
    "    torch.save(model.state_dict(), 'v2.pth')\n",
    "    print(\"saved model in \"+name)\n",
    "else:\n",
    "    model.load_state_dict(torch.load('v1.pth'))\n",
    "    model.eval()\n",
    "    print(\"loaded model from v1\")"
   ]
  },
  {
   "cell_type": "code",
   "execution_count": 29,
   "metadata": {},
   "outputs": [
    {
     "data": {
      "image/png": "[encoded data removed]",
      "text/plain": [
       "<Figure size 640x480 with 1 Axes>"
      ]
     },
     "metadata": {},
     "output_type": "display_data"
    }
   ],
   "source": [
    "display_grayscale_array(array=sample_x[i].permute(1,2,0))"
   ]
  },
  {
   "cell_type": "code",
   "execution_count": 30,
   "metadata": {},
   "outputs": [
    {
     "data": {
      "image/png": "[encoded data removed]",
      "text/plain": [
       "<Figure size 640x480 with 1 Axes>"
      ]
     },
     "metadata": {},
     "output_type": "display_data"
    }
   ],
   "source": [
    "r = model(sample_x.to(device)[i:i+1])\n",
    "display_segmented_image(y=r.permute(0,2,3,1).cpu()[0])"
   ]
  },
  {
   "cell_type": "code",
   "execution_count": 31,
   "metadata": {},
   "outputs": [
    {
     "data": {
      "image/png": "[encoded data removed]",
      "text/plain": [
       "<Figure size 640x480 with 1 Axes>"
      ]
     },
     "metadata": {},
     "output_type": "display_data"
    }
   ],
   "source": [
    "display_segmented_image(y=sample_y[i].permute(1,2,0).cpu())"
   ]
  },
  {
   "cell_type": "markdown",
   "metadata": {},
   "source": [
    "As You can see the predicition is matching the ground truth for a sample from the train set.\n",
    "Now lets Evaluate the model"
   ]
  },
  {
   "cell_type": "markdown",
   "metadata": {},
   "source": [
    "## Model Evaluatation"
   ]
  },
  {
   "cell_type": "code",
   "execution_count": 36,
   "metadata": {},
   "outputs": [],
   "source": [
    "model.eval()\n",
    "test_mIoU, test_mEntropy = [], []\n",
    "\n",
    "with torch.no_grad():\n",
    "    for inputs, labels in test_loader:\n",
    "        inputs, labels = inputs.to(device), labels.to(device)\n",
    "        logits = model(inputs).cpu().detach()\n",
    "        probabilities = F.softmax(logits, dim=1)\n",
    "        predictions = torch.argmax(probabilities, dim=1)\n",
    "        predictions_one_hot = F.one_hot(predictions, num_classes=logits.shape[1]).permute(0, 3, 1, 2)\n",
    "        \n",
    "        # Calculate entropy for each pixel and then average over the batch\n",
    "        # batch_Entropy = entropy(probabilities.numpy(), axis=1).mean(axis=(1, 2))\n",
    "        batch_mEntropy = get_mean_entropy(logits)\n",
    "        test_mEntropy.append(batch_mEntropy)\n",
    "        \n",
    "        # Assuming you have a function to calculate IoU per batch, named `batch_iou`\n",
    "        batch_mIoU= get_mean_iou(predictions_one_hot.float(), labels.float().cpu())\n",
    "        test_mIoU.append(batch_mIoU)"
   ]
  },
  {
   "cell_type": "code",
   "execution_count": 39,
   "metadata": {},
   "outputs": [
    {
     "name": "stdout",
     "output_type": "stream",
     "text": [
      "Model Mean Entropy (Uncertainty): 1.808161523193121\n",
      "Model Mean IoU: 0.16456593899056315\n"
     ]
    }
   ],
   "source": [
    "# Compute mean entropy and mean IoU for reporting\n",
    "eval_mean_entropy = np.mean(test_mEntropy)\n",
    "eval_mean_iou = np.mean(test_mIoU)\n",
    "print(f\"Model Mean Entropy (Uncertainty): {eval_mean_entropy}\")\n",
    "print(f\"Model Mean IoU: {eval_mean_iou}\")"
   ]
  },
  {
   "cell_type": "markdown",
   "metadata": {},
   "source": [
    "#### Extra stuff for debugging"
   ]
  },
  {
   "cell_type": "code",
   "execution_count": null,
   "metadata": {},
   "outputs": [],
   "source": [
    "\n",
    "#Ver2 of calculating miou and mean entropy\n",
    "def calculate_mean_iou(predictions, ground_truth, num_classes=10):\n",
    "    \"\"\"\n",
    "    Calculate the Mean Intersection over Union (Mean IoU) given one-hot encoded predictions\n",
    "    and ground truth labels.\n",
    "    \"\"\"\n",
    "    # Flatten the height and width dimensions\n",
    "    predictions = predictions.reshape(-1, num_classes).bool()\n",
    "    ground_truth = ground_truth.reshape(-1, num_classes).bool()\n",
    "    \n",
    "    iou_per_class = []\n",
    "    for cls in range(num_classes):\n",
    "        true_positive = (predictions[:, cls] & ground_truth[:, cls]).sum().float()\n",
    "        false_positive = (predictions[:, cls] & ~ground_truth[:, cls]).sum().float()\n",
    "        false_negative = (~predictions[:, cls] & ground_truth[:, cls]).sum().float()\n",
    "        union = true_positive + false_positive + false_negative\n",
    "        iou = true_positive / (union + 1e-6)\n",
    "        iou_per_class.append(iou)\n",
    "    \n",
    "    mean_iou = torch.stack(iou_per_class).mean().item()\n",
    "    return mean_iou\n",
    "\n",
    "def calculate_mean_entropy(logits):\n",
    "    \"\"\"\n",
    "    Calculate the Mean Entropy of the model's predictions (logits).\n",
    "    \"\"\"\n",
    "    probabilities = F.softmax(logits, dim=1)\n",
    "    log_probabilities = F.log_softmax(logits, dim=1)\n",
    "    entropy = -(probabilities * log_probabilities).sum(dim=1).mean().item()\n",
    "    return entropy\n",
    "\n",
    "\n",
    "#Ver1\n",
    "mean_iou  = get_mean_iou(predictions_one_hot.float(), sample_y.float())\n",
    "mean_entropy = get_mean_entropy(probabilities)\n",
    "\n",
    "#Ver2\n",
    "mean_iou2 = calculate_mean_iou(predictions_one_hot, sample_y, num_classes=10)\n",
    "mean_entropy2 = calculate_mean_entropy(logits)\n",
    "\n",
    "print(f\"Mean IoU: {mean_iou}\")\n",
    "print(f\"Mean IoU2 :{mean_iou2}\")\n",
    "print(f\"Mean Entropy: {mean_entropy}\")\n",
    "print(f\"Mean Entropy2: {mean_entropy2}\")\n",
    "print(\"stick to version 1!\")"
   ]
  },
  {
   "cell_type": "code",
   "execution_count": 159,
   "metadata": {},
   "outputs": [],
   "source": [
    "# logits = model(sample_x.to(device)).cpu().detach()\n",
    "# # Convert logits to one-hot encoded predictions\n",
    "# probabilities = F.softmax(logits, dim=1)\n",
    "# predictions = torch.argmax(probabilities, dim=1)\n",
    "# predictions_one_hot = F.one_hot(predictions, num_classes=logits.shape[1]).permute(0, 3, 1, 2)\n",
    "\n",
    "# print(calculate_mean_iou(predictions_one_hot, sample_y, num_classes=10))\n",
    "# print(miou_score(probabilities,sample_y,num_classes))\n",
    "# print(batch_miou(predictions,torch.argmax(sample_y, dim=1),num_classes))\n",
    "# print(get_mean_iou(predictions_one_hot.float(), sample_y.float()))"
   ]
  },
  {
   "cell_type": "code",
   "execution_count": 101,
   "metadata": {},
   "outputs": [],
   "source": [
    "# def batch_miou_func(preds, labels, num_classes):\n",
    "#     \"\"\"\n",
    "#     Calculate mean Intersection over Union (mIoU) for a batch of predictions and labels.\n",
    "    \n",
    "#     Parameters:\n",
    "#     preds (Tensor): Predictions tensor with shape (batch_size, height, width), containing class indices for each pixel.\n",
    "#     labels (Tensor): Labels tensor with shape (batch_size, height, width), containing class indices for each pixel.\n",
    "#     num_classes (int): The number of classes.\n",
    "    \n",
    "#     Returns:\n",
    "#     float: The mean IoU for the batch.\n",
    "#     \"\"\"\n",
    "#     # Initialize variables to store total intersection and union across the batch, for each class\n",
    "#     total_intersection = torch.zeros(num_classes)\n",
    "#     total_union = torch.zeros(num_classes)\n",
    "    \n",
    "#     for cls in range(num_classes):\n",
    "#         # Find pixels of the current class\n",
    "#         pred_cls = preds == cls\n",
    "#         label_cls = labels == cls\n",
    "        \n",
    "#         # Calculate intersection and union for the current class\n",
    "#         intersection = torch.logical_and(pred_cls, label_cls).sum()\n",
    "#         union = torch.logical_or(pred_cls, label_cls).sum()\n",
    "        \n",
    "#         total_intersection[cls] += intersection\n",
    "#         total_union[cls] += union\n",
    "    \n",
    "#     # Avoid division by zero for classes not present in predictions/labels\n",
    "#     ious = total_intersection / (total_union + 1e-6)\n",
    "    \n",
    "#     # Calculate mean IoU across classes\n",
    "#     mean_iou = ious.mean().item()\n",
    "    \n",
    "#     return mean_iou\n",
    "\n",
    "# def miou_score(outputs, labels, num_classes):\n",
    "#     \"\"\"\n",
    "#     Calculate mean IoU for a batch of predictions and labels.\n",
    "    \n",
    "#     Parameters:\n",
    "#     outputs (Tensor): A tensor of shape (batch_size, num_classes, height, width)\n",
    "#                       containing the predicted probabilities for each class.\n",
    "#     labels (Tensor): A tensor of shape (batch_size, num_classes, height, width)\n",
    "#                      containing the one-hot encoded ground truth labels.\n",
    "#     num_classes (int): The number of classes in the segmentation task.\n",
    "    \n",
    "#     Returns:\n",
    "#     float: The mean IoU for the batch.\n",
    "#     \"\"\"\n",
    "#     # Ensure the outputs are in binary format (e.g., 0 or 1)\n",
    "#     _, preds = torch.max(outputs, 1)  # Get the predicted class for each pixel\n",
    "#     preds = F.one_hot(preds, num_classes).permute(0, 3, 1, 2).float()  # Convert to one-hot encoding\n",
    "    \n",
    "#     ious = []\n",
    "#     for cls in range(num_classes):  # Calculate IoU for each class\n",
    "#         intersection = (preds[:, cls] * labels[:, cls]).sum(dim=(1, 2))\n",
    "#         union = (preds[:, cls] + labels[:, cls]).clamp(0, 1).sum(dim=(1, 2))\n",
    "#         iou = intersection / (union + 1e-6)  # Avoid division by zero\n",
    "#         ious.append(iou.mean().item())  # Average IoU for this class across the batch\n",
    "    \n",
    "#     mean_iou = sum(ious) / len(ious)\n",
    "\n",
    "#     return mean_iou  # Return mean IoU across all classes"
   ]
  }
 ],
 "metadata": {
  "kernelspec": {
   "display_name": "SafeML_2",
   "language": "python",
   "name": "python3"
  },
  "language_info": {
   "codemirror_mode": {
    "name": "ipython",
    "version": 3
   },
   "file_extension": ".py",
   "mimetype": "text/x-python",
   "name": "python",
   "nbconvert_exporter": "python",
   "pygments_lexer": "ipython3",
   "version": "3.8.10"
  }
 },
 "nbformat": 4,
 "nbformat_minor": 2
}
